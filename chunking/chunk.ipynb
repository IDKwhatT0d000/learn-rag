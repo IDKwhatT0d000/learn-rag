{
 "cells": [
  {
   "cell_type": "code",
   "execution_count": 2,
   "id": "ecf88cf8",
   "metadata": {},
   "outputs": [],
   "source": [
    "from langchain.text_splitter import RecursiveCharacterTextSplitter\n",
    "from langchain.vectorstores import Chroma\n",
    "from langchain.embeddings import HuggingFaceEmbeddings"
   ]
  },
  {
   "cell_type": "code",
   "execution_count": 3,
   "id": "21f498c6",
   "metadata": {},
   "outputs": [],
   "source": [
    "document = \"\"\"\n",
    "Elon Musk is the CEO of Tesla. Tesla's mission is to accelerate the world's transition to sustainable energy.\n",
    "Tesla manufactures electric vehicles (EVs), battery energy storage, solar panels, and related products. SpaceX, another company led by Musk,\n",
    "aims to make space travel accessible to humanity by developing reusable rockets.\n",
    "Musk has also co-founded Neuralink, which focuses on connecting the human brain to computers using advanced neural interfaces.\n",
    "Recently, Musk has expressed his concerns about artificial intelligence, advocating for regulation to prevent potential harm.\n",
    "Musk believes that governments should play an active role in ensuring the safe development of AI technologies.\n",
    "His innovative ventures span automotive, space exploration, energy, AI, and neuroscience, making him a pivotal figure in modern technology.\n",
    "\"\"\""
   ]
  },
  {
   "cell_type": "code",
   "execution_count": 4,
   "id": "a6a216c1",
   "metadata": {},
   "outputs": [
    {
     "name": "stdout",
     "output_type": "stream",
     "text": [
      "Smaller Chunks -\n",
      "['Elon Musk is the', 'CEO of Tesla.', \"Tesla's mission is\", 'to accelerate the', \"world's transition\", 'to sustainable', 'energy.', 'Tesla manufactures', 'electric vehicles', '(EVs), battery', 'energy storage,', 'solar panels, and', 'related products.', 'SpaceX, another', 'company led by', 'Musk,', 'aims to make space', 'travel accessible', 'to humanity by', 'developing reusable', 'rockets.', 'Musk has also', 'co-founded', 'Neuralink, which', 'focuses on', 'connecting the', 'human brain to', 'computers using', 'advanced neural', 'interfaces.', 'Recently, Musk has', 'expressed his', 'concerns about', 'artificial', 'intelligence,', 'advocating for', 'regulation to', 'prevent potential', 'harm.', 'Musk believes that', 'governments should', 'play an active role', 'in ensuring the', 'safe development of', 'AI technologies.', 'His innovative', 'ventures span', 'automotive, space', 'exploration,', 'energy, AI, and', 'neuroscience,', 'making him a', 'a pivotal figure in', 'modern technology.']\n"
     ]
    }
   ],
   "source": [
    "#small size\n",
    "small_splitter=RecursiveCharacterTextSplitter(chunk_size=20,chunk_overlap=2)\n",
    "small_chunks=small_splitter.split_text(document)\n",
    "print(\"Smaller Chunks -\")\n",
    "print(small_chunks)"
   ]
  },
  {
   "cell_type": "code",
   "execution_count": 5,
   "id": "5bdb1383",
   "metadata": {},
   "outputs": [
    {
     "name": "stdout",
     "output_type": "stream",
     "text": [
      "Larger Chunks -\n",
      "[\"Elon Musk is the CEO of Tesla. Tesla's mission is to accelerate the world's transition to sustainable energy.\", 'Tesla manufactures electric vehicles (EVs), battery energy storage, solar panels, and related products. SpaceX, another company led by Musk,', 'aims to make space travel accessible to humanity by developing reusable rockets.', 'Musk has also co-founded Neuralink, which focuses on connecting the human brain to computers using advanced neural interfaces.', 'Recently, Musk has expressed his concerns about artificial intelligence, advocating for regulation to prevent potential harm.', 'Musk believes that governments should play an active role in ensuring the safe development of AI technologies.', 'His innovative ventures span automotive, space exploration, energy, AI, and neuroscience, making him a pivotal figure in modern technology.']\n"
     ]
    }
   ],
   "source": [
    "#large size\n",
    "large_splitter = RecursiveCharacterTextSplitter(chunk_size=200, chunk_overlap=10)\n",
    "large_chunks = large_splitter.split_text(document)\n",
    "print(\"Larger Chunks -\")\n",
    "print(large_chunks)"
   ]
  },
  {
   "cell_type": "code",
   "execution_count": 6,
   "id": "294f12a1",
   "metadata": {},
   "outputs": [
    {
     "name": "stderr",
     "output_type": "stream",
     "text": [
      "C:\\Users\\ASHRITH\\AppData\\Local\\Temp\\ipykernel_1344\\1210534826.py:1: LangChainDeprecationWarning: The class `HuggingFaceEmbeddings` was deprecated in LangChain 0.2.2 and will be removed in 1.0. An updated version of the class exists in the :class:`~langchain-huggingface package and should be used instead. To use it run `pip install -U :class:`~langchain-huggingface` and import as `from :class:`~langchain_huggingface import HuggingFaceEmbeddings``.\n",
      "  embedding_model = HuggingFaceEmbeddings(model_name=\"all-MiniLM-L6-v2\")\n",
      "c:\\Users\\ASHRITH\\Desktop\\getgud\\learn-rag\\venv\\Lib\\site-packages\\tqdm\\auto.py:21: TqdmWarning: IProgress not found. Please update jupyter and ipywidgets. See https://ipywidgets.readthedocs.io/en/stable/user_install.html\n",
      "  from .autonotebook import tqdm as notebook_tqdm\n"
     ]
    }
   ],
   "source": [
    "\n",
    "embedding_model = HuggingFaceEmbeddings(model_name=\"all-MiniLM-L6-v2\")"
   ]
  },
  {
   "cell_type": "code",
   "execution_count": 7,
   "id": "ae11dbea",
   "metadata": {},
   "outputs": [],
   "source": [
    "# Create vector stores\n",
    "small_vector_store = Chroma.from_texts(small_chunks, embedding_model)\n",
    "large_vector_store = Chroma.from_texts(large_chunks, embedding_model)"
   ]
  },
  {
   "cell_type": "code",
   "execution_count": 8,
   "id": "6c935c62",
   "metadata": {},
   "outputs": [
    {
     "name": "stdout",
     "output_type": "stream",
     "text": [
      "<langchain_community.vectorstores.chroma.Chroma object at 0x000001DF128CDAF0>\n"
     ]
    }
   ],
   "source": [
    "print(small_vector_store)"
   ]
  },
  {
   "cell_type": "code",
   "execution_count": 9,
   "id": "47087e4d",
   "metadata": {},
   "outputs": [],
   "source": [
    "# Semantic query\n",
    "query = \"What are Musk's views on artificial intelligence and government regulations?\""
   ]
  },
  {
   "cell_type": "code",
   "execution_count": 13,
   "id": "da082e0d",
   "metadata": {},
   "outputs": [],
   "source": [
    "# Perform search\n",
    "small_results = small_vector_store.similarity_search(query, k=2)\n",
    "large_results = large_vector_store.similarity_search(query, k=3)"
   ]
  },
  {
   "cell_type": "code",
   "execution_count": 14,
   "id": "bd59d4a2",
   "metadata": {},
   "outputs": [
    {
     "name": "stdout",
     "output_type": "stream",
     "text": [
      "-----------------------------------\n",
      "Results\n",
      "-----------------------------------\n",
      "Small Chunk Results: [Document(metadata={}, page_content='Recently, Musk has expressed his concerns about artificial intelligence, advocating for regulation to prevent potential harm.'), Document(metadata={}, page_content='Musk believes that governments should play an active role in ensuring the safe development of AI technologies.')]\n",
      "Large Chunk Results: [Document(metadata={}, page_content='Recently, Musk has expressed his concerns about artificial intelligence, advocating for regulation to prevent potential harm.'), Document(metadata={}, page_content='Musk believes that governments should play an active role in ensuring the safe development of AI technologies.'), Document(metadata={}, page_content='Musk believes that')]\n"
     ]
    }
   ],
   "source": [
    "# Display results\n",
    "print(\"-----------------------------------\")\n",
    "print(\"Results\")\n",
    "print(\"-----------------------------------\")\n",
    "print(\"Small Chunk Results:\", small_results)\n",
    "print(\"Large Chunk Results:\", large_results)"
   ]
  }
 ],
 "metadata": {
  "kernelspec": {
   "display_name": "venv",
   "language": "python",
   "name": "python3"
  },
  "language_info": {
   "codemirror_mode": {
    "name": "ipython",
    "version": 3
   },
   "file_extension": ".py",
   "mimetype": "text/x-python",
   "name": "python",
   "nbconvert_exporter": "python",
   "pygments_lexer": "ipython3",
   "version": "3.12.0"
  }
 },
 "nbformat": 4,
 "nbformat_minor": 5
}
