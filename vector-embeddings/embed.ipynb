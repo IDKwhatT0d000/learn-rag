{
 "cells": [
  {
   "cell_type": "code",
   "execution_count": null,
   "id": "8e8c9b4d",
   "metadata": {},
   "outputs": [],
   "source": [
    "from transformers import AutoTokenizer ,AutoModel\n",
    "import torch\n",
    "\n",
    "tokenizer=AutoTokenizer.from_pretrained(\"bert-base-uncased\")\n",
    "model=AutoModel.from_pretrained(\"bert-base-uncased\")\n",
    "\n",
    "text=\"This is an example sentence for embedding\"\n",
    "inputs=tokenizer(text,return_tensors=\"pt\", padding=True , truncation=True)\n",
    "\n",
    "with torch.no_grad():\n",
    "    outputs=model(**inputs)\n",
    "    text_embeddings=outputs.last_hidden_state.mean(dim=1)\n",
    "print(text_embeddings.shape)\n",
    "    \n"
   ]
  }
 ],
 "metadata": {
  "language_info": {
   "name": "python"
  }
 },
 "nbformat": 4,
 "nbformat_minor": 5
}
